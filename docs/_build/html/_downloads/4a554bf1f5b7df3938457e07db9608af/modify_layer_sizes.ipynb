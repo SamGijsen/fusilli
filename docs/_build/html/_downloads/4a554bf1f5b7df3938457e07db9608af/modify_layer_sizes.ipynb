{
  "cells": [
    {
      "cell_type": "markdown",
      "metadata": {},
      "source": [
        "\n# How to modify architectures of fusion models\n\nThis tutorial will show you how to modify the architectures of fusion models.\n\nPROBLEMs:\n\n1. resetting the layer sizes won't also reset the fused layers, so we need to reset the fused layers after resetting the layer sizes manually\n"
      ]
    }
  ],
  "metadata": {
    "kernelspec": {
      "display_name": "Python 3",
      "language": "python",
      "name": "python3"
    },
    "language_info": {
      "codemirror_mode": {
        "name": "ipython",
        "version": 3
      },
      "file_extension": ".py",
      "mimetype": "text/x-python",
      "name": "python",
      "nbconvert_exporter": "python",
      "pygments_lexer": "ipython3",
      "version": "3.9.16"
    }
  },
  "nbformat": 4,
  "nbformat_minor": 0
}