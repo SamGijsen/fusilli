{
  "cells": [
    {
      "cell_type": "markdown",
      "metadata": {},
      "source": [
        "\n# Train test comparing two models on simulated data\n\nThis example shows how to train and test two fusion models on simulated data.\n"
      ]
    },
    {
      "cell_type": "code",
      "execution_count": null,
      "metadata": {
        "collapsed": false
      },
      "outputs": [],
      "source": [
        "# from example_helpers import generate_all_random_simulated_data, generate_sklearn_simulated_data\nfrom docs.source.examples import generate_sklearn_simulated_data\nfrom fusilli.data import get_data_module\nfrom fusilli.train import train_and_save_models\nfrom fusilli.utils.model_chooser import get_models\nfrom fusilli.fusion_models.base_model import BaseModel\nfrom fusilli.eval import Plotter\nimport os\nimport torch\nfrom tqdm.auto import tqdm\nimport importlib\n\n# %matplotlib inline\nimport matplotlib.pyplot as plt\n\nimport warnings\n\nwarnings.filterwarnings(\"ignore\", \".*does not have many workers.*\")\nwarnings.filterwarnings(\"ignore\", \".*MPS available but not used.*\")\nwarnings.filterwarnings(\n    \"ignore\", message=\"Checkpoint directory.*exists and is not empty.\"\n)"
      ]
    },
    {
      "cell_type": "markdown",
      "metadata": {},
      "source": [
        "import methods\n\n"
      ]
    },
    {
      "cell_type": "code",
      "execution_count": null,
      "metadata": {
        "collapsed": false
      },
      "outputs": [],
      "source": [
        "model_conditions = {\n    \"class_name\": [\"ConcatTabularData\", \"TabularChannelWiseMultiAttention\"],\n}\n\nimported_models = get_models(model_conditions)\nprint(\"Imported methods:\")\nprint(imported_models.method_name.values)\n\nfusion_models = []  # contains the class objects for each model\nfor index, row in imported_models.iterrows():\n    module = importlib.import_module(row[\"method_path\"])\n    module_class = getattr(module, row[\"class_name\"])\n\n    fusion_models.append(module_class)"
      ]
    },
    {
      "cell_type": "markdown",
      "metadata": {},
      "source": [
        "training parameters\n\n"
      ]
    },
    {
      "cell_type": "code",
      "execution_count": null,
      "metadata": {
        "collapsed": false
      },
      "outputs": [],
      "source": [
        "params = {\n    \"test_size\": 0.2,\n    # \"subspace_latdims\": 5,\n    \"kfold_flag\": False,\n    # \"num_k\": 5,\n    # \"multiclass_dims\": 3,\n    \"log\": False,\n    \"pred_type\": \"regression\",\n}"
      ]
    },
    {
      "cell_type": "markdown",
      "metadata": {},
      "source": [
        "params = generate_all_simulated_data(\n    num_samples=500,\n    num_tab1_features=10,\n    num_tab2_features=10,\n    img_dims=(1, 100, 100),\n    params=params,\n)\n\n"
      ]
    },
    {
      "cell_type": "code",
      "execution_count": null,
      "metadata": {
        "collapsed": false
      },
      "outputs": [],
      "source": [
        "params = generate_sklearn_simulated_data(\n    num_samples=500,\n    num_tab1_features=10,\n    num_tab2_features=10,\n    img_dims=(1, 100, 100),\n    params=params,\n)"
      ]
    },
    {
      "cell_type": "code",
      "execution_count": null,
      "metadata": {
        "collapsed": false
      },
      "outputs": [],
      "source": [
        "all_trained_models = {}  # create dictionary to store trained models"
      ]
    },
    {
      "cell_type": "markdown",
      "metadata": {},
      "source": [
        "Training the first fusion model\n\n"
      ]
    },
    {
      "cell_type": "markdown",
      "metadata": {},
      "source": [
        "choose model\n\n"
      ]
    },
    {
      "cell_type": "code",
      "execution_count": null,
      "metadata": {
        "collapsed": false
      },
      "outputs": [],
      "source": [
        "fusion_model = fusion_models[0]\nsingle_model_dict = {}\n\n# initialise model\ninit_model = BaseModel(\n    fusion_model(\n        params[\"pred_type\"], data_dims=[10, 10, [100, 100, 100]], params=params\n    )\n)\n\n\nprint(\"method_name:\", init_model.method_name)\nprint(\"modality_type:\", init_model.modality_type)\nprint(\"fusion_type:\", init_model.fusion_type)\nprint(\"metric_name_list:\", init_model.metric_names_list)\n\n# get the data module\ndm = get_data_module(init_model=init_model, params=params)\n\n# train and test\nsingle_model_dict = train_and_save_models(\n    trained_models_dict=single_model_dict,\n    data_module=dm,\n    params=params,\n    fusion_model=fusion_model,\n    init_model=init_model,\n)\n\nall_trained_models[fusion_model.__name__] = single_model_dict[fusion_model.__name__]"
      ]
    },
    {
      "cell_type": "code",
      "execution_count": null,
      "metadata": {
        "collapsed": false
      },
      "outputs": [],
      "source": [
        "plotter = Plotter(single_model_dict, params)\nsingle_model_figures_dict = plotter.plot_all()\nplotter.show_all(single_model_figures_dict)"
      ]
    },
    {
      "cell_type": "markdown",
      "metadata": {},
      "source": [
        "Training tabular decision model\n\n"
      ]
    },
    {
      "cell_type": "markdown",
      "metadata": {},
      "source": [
        "choose model\n\n"
      ]
    },
    {
      "cell_type": "code",
      "execution_count": null,
      "metadata": {
        "collapsed": false
      },
      "outputs": [],
      "source": [
        "fusion_model = fusion_models[1]\nsingle_model_dict = {}\n\n# initialise model\ninit_model = BaseModel(\n    fusion_model(\n        params[\"pred_type\"], data_dims=[10, 10, [100, 100, 100]], params=params\n    )\n)\n\n\nprint(\"method_name:\", init_model.method_name)\nprint(\"modality_type:\", init_model.modality_type)\nprint(\"fusion_type:\", init_model.fusion_type)\nprint(\"metric_name_list:\", init_model.metric_names_list)\n\n# get the data module\ndm = get_data_module(init_model=init_model, params=params)\n\n# train and test\ntrained_models = train_and_save_models(\n    trained_models_dict=single_model_dict,\n    data_module=dm,\n    params=params,\n    fusion_model=fusion_model,\n    init_model=init_model,\n)\n\nall_trained_models[fusion_model.__name__] = single_model_dict[fusion_model.__name__]"
      ]
    },
    {
      "cell_type": "code",
      "execution_count": null,
      "metadata": {
        "collapsed": false
      },
      "outputs": [],
      "source": [
        "plotter = Plotter(single_model_dict, params)\nsingle_model_figures_dict = plotter.plot_all()\nplotter.show_all(single_model_figures_dict)"
      ]
    },
    {
      "cell_type": "markdown",
      "metadata": {},
      "source": [
        "visualise the results of a single model\n\n"
      ]
    },
    {
      "cell_type": "code",
      "execution_count": null,
      "metadata": {
        "collapsed": false
      },
      "outputs": [],
      "source": [
        "comparison_plotter = Plotter(all_trained_models, params)\ncomparison_plot_dict = comparison_plotter.plot_all()\ncomparison_plotter.show_all(comparison_plot_dict)"
      ]
    },
    {
      "cell_type": "code",
      "execution_count": null,
      "metadata": {
        "collapsed": false
      },
      "outputs": [],
      "source": [
        "performances_df = comparison_plotter.save_performance_csv()\nperformances_df"
      ]
    }
  ],
  "metadata": {
    "kernelspec": {
      "display_name": "Python 3",
      "language": "python",
      "name": "python3"
    },
    "language_info": {
      "codemirror_mode": {
        "name": "ipython",
        "version": 3
      },
      "file_extension": ".py",
      "mimetype": "text/x-python",
      "name": "python",
      "nbconvert_exporter": "python",
      "pygments_lexer": "ipython3",
      "version": "3.9.16"
    }
  },
  "nbformat": 4,
  "nbformat_minor": 0
}