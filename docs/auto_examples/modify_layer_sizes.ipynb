{
  "cells": [
    {
      "cell_type": "markdown",
      "metadata": {},
      "source": [
        "\n# How to modify architectures of fusion models\n\nThis tutorial will show you how to modify the architectures of fusion models.\n\n## Notes\n\n- For image channel-wise attention, the mod1 layers and the img layers must have the same number of layers and the same\n    number of output channels in each layer. The kernel size and padding etc can be different.\n- For tabular channel-wise attention, the mod1 layers and the mod2 layers must have the same number of layers and the\n    same number of output features in each layer.\n"
      ]
    }
  ],
  "metadata": {
    "kernelspec": {
      "display_name": "Python 3",
      "language": "python",
      "name": "python3"
    },
    "language_info": {
      "codemirror_mode": {
        "name": "ipython",
        "version": 3
      },
      "file_extension": ".py",
      "mimetype": "text/x-python",
      "name": "python",
      "nbconvert_exporter": "python",
      "pygments_lexer": "ipython3",
      "version": "3.9.16"
    }
  },
  "nbformat": 4,
  "nbformat_minor": 0
}