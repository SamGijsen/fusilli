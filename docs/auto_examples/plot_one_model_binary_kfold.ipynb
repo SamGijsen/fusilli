{
  "cells": [
    {
      "cell_type": "markdown",
      "metadata": {},
      "source": [
        "\n# Binary: training one kfold model\n\nThis script shows how to train one fusion models on a binary task with k-fold training protocol and multimodal tabular data.\n\nKey Features:\n\n- Importing a model based on its path.\n- Training and testing a model with k-fold cross validation.\n- Plotting the results of a single k-fold model.\n"
      ]
    },
    {
      "cell_type": "code",
      "execution_count": null,
      "metadata": {
        "collapsed": false
      },
      "outputs": [],
      "source": [
        "import matplotlib.pyplot as plt\nfrom tqdm.auto import tqdm"
      ]
    },
    {
      "cell_type": "code",
      "execution_count": null,
      "metadata": {
        "collapsed": false
      },
      "outputs": [],
      "source": [
        "from docs.examples import generate_sklearn_simulated_data\nfrom fusionlibrary.datamodules import get_data_module\nfrom fusionlibrary.eval_functions import Plotter\nfrom fusionlibrary.fusion_models.base_pl_model import BaseModel"
      ]
    },
    {
      "cell_type": "markdown",
      "metadata": {},
      "source": [
        "## 1. Import model\n\n"
      ]
    },
    {
      "cell_type": "code",
      "execution_count": null,
      "metadata": {
        "collapsed": false
      },
      "outputs": [],
      "source": [
        "from fusionlibrary.fusion_models.tab_crossmodal_att import (\n    TabularCrossmodalMultiheadAttention,\n)\nfrom fusionlibrary.train_functions import train_and_save_models"
      ]
    },
    {
      "cell_type": "markdown",
      "metadata": {},
      "source": [
        "## 2. Set the training parameters\n\n"
      ]
    },
    {
      "cell_type": "code",
      "execution_count": null,
      "metadata": {
        "collapsed": false
      },
      "outputs": [],
      "source": [
        "params = {\n    \"test_size\": 0.2,\n    \"kfold_flag\": True,\n    \"num_k\": 5,\n    \"log\": False,\n    \"pred_type\": \"binary\",\n    \"batch_size\": 32,\n}"
      ]
    },
    {
      "cell_type": "markdown",
      "metadata": {},
      "source": [
        "## 3. Generate simulated data\n\n"
      ]
    },
    {
      "cell_type": "code",
      "execution_count": null,
      "metadata": {
        "collapsed": false
      },
      "outputs": [],
      "source": [
        "params = generate_sklearn_simulated_data(\n    num_samples=500,\n    num_tab1_features=10,\n    num_tab2_features=10,\n    img_dims=(1, 100, 100),\n    params=params,\n)"
      ]
    },
    {
      "cell_type": "markdown",
      "metadata": {},
      "source": [
        "4. Initialise model\n\n"
      ]
    },
    {
      "cell_type": "code",
      "execution_count": null,
      "metadata": {
        "collapsed": false
      },
      "outputs": [],
      "source": [
        "fusion_model = TabularCrossmodalMultiheadAttention\n\nsingle_model_dict = {}\n\n# initialise model\ninit_model = BaseModel(\n    fusion_model(params[\"pred_type\"], data_dims=[10, 10, [100, 100]], params=params)\n)\n\n\nprint(\"method_name:\", init_model.method_name)\nprint(\"modality_type:\", init_model.modality_type)\nprint(\"fusion_type:\", init_model.fusion_type)\nprint(\"metric_name_list:\", init_model.metric_names_list)"
      ]
    },
    {
      "cell_type": "markdown",
      "metadata": {},
      "source": [
        "## 5. Train and test the model\n\n"
      ]
    },
    {
      "cell_type": "code",
      "execution_count": null,
      "metadata": {
        "collapsed": false
      },
      "outputs": [],
      "source": [
        "dm = get_data_module(\n    init_model=init_model, params=params, batch_size=params[\"batch_size\"]\n)\n\n# train and test\nsingle_model_dict = train_and_save_models(\n    trained_models_dict=single_model_dict,\n    data_module=dm,\n    params=params,\n    fusion_model=fusion_model,\n    init_model=init_model,\n)"
      ]
    },
    {
      "cell_type": "markdown",
      "metadata": {},
      "source": [
        "## 6. Plot the results\n\n"
      ]
    },
    {
      "cell_type": "code",
      "execution_count": null,
      "metadata": {
        "collapsed": false
      },
      "outputs": [],
      "source": [
        "plotter = Plotter(single_model_dict, params)\nsingle_model_figures_dict = plotter.plot_all()\nplotter.show_all(single_model_figures_dict)"
      ]
    }
  ],
  "metadata": {
    "kernelspec": {
      "display_name": "Python 3",
      "language": "python",
      "name": "python3"
    },
    "language_info": {
      "codemirror_mode": {
        "name": "ipython",
        "version": 3
      },
      "file_extension": ".py",
      "mimetype": "text/x-python",
      "name": "python",
      "nbconvert_exporter": "python",
      "pygments_lexer": "ipython3",
      "version": "3.9.16"
    }
  },
  "nbformat": 4,
  "nbformat_minor": 0
}