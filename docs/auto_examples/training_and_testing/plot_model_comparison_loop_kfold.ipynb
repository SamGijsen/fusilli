{
  "cells": [
    {
      "cell_type": "markdown",
      "metadata": {},
      "source": [
        "\n# Comparing Multiple K-Fold Trained Fusion Models\n\nWelcome to the \"Comparing Multiple K-Fold Trained Fusion Models\" tutorial! In this tutorial, we'll explore how to train and compare multiple fusion models for a regression task using k-fold cross-validation with multimodal tabular data. This tutorial is designed to help you understand and implement key features, including:\n\n1. Importing fusion models based on modality types.\n2. Setting training parameters for your models.\n3. Generating simulated data for experimentation.\n4. Training and evaluating multiple fusion models.\n5. Visualizing the results of individual models.\n6. Comparing the performance of different models.\n7. Saving the results for further analysis.\n\nLet's dive into each of these steps in detail:\n\n1. **Importing Fusion Models:**\n\n   We begin by importing fusion models based on modality types. These models will be used in our regression task, and we'll explore various fusion strategies. The imported models will provide flexibility in model selection.\n\n2. **Setting the Training Parameters:**\n\n   To ensure consistent and controlled training, we define training parameters. These parameters include enabling k-fold cross-validation, specifying the prediction type (regression), and setting the batch size for training.\n\n3. **Generating Simulated Data:**\n\n   In this step, we generate synthetic data to simulate a real-world multimodal dataset. This dataset includes two tabular modalities, but it can also incorporate image data, although we won't use images in this example.\n\n4. **Training All Fusion Models:**\n\n   Now, we train all the selected fusion models using the generated data and the defined training parameters. We'll monitor the performance of each model during training and store the results for later analysis.\n\n5. **Plotting Individual Model Results:**\n\n   After training, we visualize the performance of each individual model. We create plots that show loss curves and performance metrics to help us understand how each model performed.\n\n6. **Comparing Model Performance:**\n\n   To gain insights into which fusion models perform best, we compare their performance using a violin chart. This chart provides a clear overview of how each model's performance metrics compare.\n\n7. **Saving the Results:**\n\n   Finally, we save the performance results of all the models as a structured DataFrame. This data can be further analyzed, exported to a CSV file, or used for additional experiments.\n\nNow, let's walk through each of these steps in code and detail. Let's get started!\n"
      ]
    },
    {
      "cell_type": "code",
      "execution_count": null,
      "metadata": {
        "collapsed": false
      },
      "outputs": [],
      "source": [
        "import importlib\n\nimport matplotlib.pyplot as plt\nfrom tqdm.auto import tqdm\n\nfrom docs.examples import generate_sklearn_simulated_data\nfrom fusionlibrary.datamodules import get_data_module\nfrom fusionlibrary.eval_functions import Plotter\nfrom fusionlibrary.train_functions import train_and_save_models\nfrom fusionlibrary.utils.model_chooser import get_models"
      ]
    },
    {
      "cell_type": "markdown",
      "metadata": {},
      "source": [
        "## 1. Import fusion models\nHere we import the fusion models to be compared. The models are imported using the\n:func:`~fusionlibrary.utils.model_chooser.get_models` function, which takes a dictionary of conditions\nas an input. The conditions are the attributes of the models, e.g. the class name, the modality type, etc.\n\nThe function returns a dataframe of the models that match the conditions. The dataframe contains the\nmethod name, the class name, the modality type, the fusion type, the path to the model, and the path to the\nmodel's parent class. The paths are used to import the models with the :func:`importlib.import_module`.\n\nWe're importing all the fusion models that use only tabular data for this example (either uni-modal or multi-modal).\n\n"
      ]
    },
    {
      "cell_type": "code",
      "execution_count": null,
      "metadata": {
        "collapsed": false
      },
      "outputs": [],
      "source": [
        "model_conditions = {\n    \"modality_type\": [\"tabular1\", \"tabular2\", \"both_tab\"],\n}\n\nimported_models = get_models(model_conditions)\nprint(\"Imported methods:\")\nprint(imported_models.method_name.values)\n\nfusion_models = []  # contains the class objects for each model\nfor index, row in imported_models.iterrows():\n    module = importlib.import_module(row[\"method_path\"])\n    module_class = getattr(module, row[\"class_name\"])\n\n    fusion_models.append(module_class)"
      ]
    },
    {
      "cell_type": "markdown",
      "metadata": {},
      "source": [
        "## 2. Set the training parameters\nIn this section, we set the training parameters for our models. These parameters include k-fold cross-validation, prediction type (regression), and batch size.\n\n"
      ]
    },
    {
      "cell_type": "code",
      "execution_count": null,
      "metadata": {
        "collapsed": false
      },
      "outputs": [],
      "source": [
        "params = {\n    \"kfold_flag\": True,\n    \"num_k\": 10,\n    \"log\": False,\n    \"pred_type\": \"regression\",\n    \"batch_size\": 32,\n}"
      ]
    },
    {
      "cell_type": "markdown",
      "metadata": {},
      "source": [
        "## 3. Generating simulated data\nHere we generate simulated data for the two tabular modalities for this example.\nThis function also simulated image data which we aren't using here.\n\n"
      ]
    },
    {
      "cell_type": "code",
      "execution_count": null,
      "metadata": {
        "collapsed": false
      },
      "outputs": [],
      "source": [
        "params = generate_sklearn_simulated_data(\n    num_samples=500,\n    num_tab1_features=10,\n    num_tab2_features=20,\n    img_dims=(1, 100, 100),\n    params=params,\n)"
      ]
    },
    {
      "cell_type": "markdown",
      "metadata": {},
      "source": [
        "## 4. Training the all the fusion models\nIn this section, we train all the fusion models using the generated data and specified parameters.\nWe store the results of each model for later analysis.\n\n"
      ]
    },
    {
      "cell_type": "code",
      "execution_count": null,
      "metadata": {
        "collapsed": false
      },
      "outputs": [],
      "source": [
        "all_trained_models = {}\nsingle_model_dicts = []  # for plotting single models later\n\nfor i, fusion_model in enumerate(fusion_models):\n    print(f\"Running model {fusion_model.__name__}\")\n\n    # Get data module\n    data_module = get_data_module(fusion_model, params, batch_size=params[\"batch_size\"])\n\n    # Train and test\n    single_model_dict = train_and_save_models(\n        data_module=data_module,\n        params=params,\n        fusion_model=fusion_model,\n        enable_checkpointing=False,  # False for the example notebooks\n    )\n\n    # Save to all_trained_models\n    all_trained_models[fusion_model.__name__] = single_model_dict[fusion_model.__name__]\n    single_model_dicts.append(single_model_dict)"
      ]
    },
    {
      "cell_type": "markdown",
      "metadata": {},
      "source": [
        "## 5. Plotting the results of the individual models\nIn this section, we visualize the results of each individual model.\n\nIf you want to save the figures rather than show them, you can use the :meth:`~.save_to_local' method of the :class:`~fusionlibrary.eval_functions.Plotter` class.\nThis will save the figures in a timestamped folder in the current working directory with the method name and plot type in the filename.\nYou can add an extra suffix to the filename by passing a string to the ``extra_string`` argument of the :meth:`~fusionlibrary.eval_functions.Plotter.save_to_local` method.\n\n"
      ]
    },
    {
      "cell_type": "code",
      "execution_count": null,
      "metadata": {
        "collapsed": false
      },
      "outputs": [],
      "source": [
        "for model_dict in single_model_dicts:\n    plotter = Plotter(model_dict, params)\n    single_model_figures_dict = plotter.plot_all()\n    plotter.show_all(single_model_figures_dict)"
      ]
    },
    {
      "cell_type": "markdown",
      "metadata": {},
      "source": [
        "## 6. Plotting comparison of the models\nIn this section, we visualize the results of each individual model.\n\n"
      ]
    },
    {
      "cell_type": "code",
      "execution_count": null,
      "metadata": {
        "collapsed": false
      },
      "outputs": [],
      "source": [
        "comparison_plotter = Plotter(all_trained_models, params)\ncomparison_plot_dict = comparison_plotter.plot_all()\ncomparison_plotter.show_all(comparison_plot_dict)"
      ]
    },
    {
      "cell_type": "markdown",
      "metadata": {},
      "source": [
        "## 7. Saving the results of the models\nIn this section, we compare the performance of all the trained models using a violin chart, providing an overview of how each model performed as a distribution over the different cross-validation folds.\n\n"
      ]
    },
    {
      "cell_type": "code",
      "execution_count": null,
      "metadata": {
        "collapsed": false
      },
      "outputs": [],
      "source": [
        "performances_df = comparison_plotter.get_performance_df()\nperformances_df"
      ]
    }
  ],
  "metadata": {
    "kernelspec": {
      "display_name": "Python 3",
      "language": "python",
      "name": "python3"
    },
    "language_info": {
      "codemirror_mode": {
        "name": "ipython",
        "version": 3
      },
      "file_extension": ".py",
      "mimetype": "text/x-python",
      "name": "python",
      "nbconvert_exporter": "python",
      "pygments_lexer": "ipython3",
      "version": "3.9.16"
    }
  },
  "nbformat": 4,
  "nbformat_minor": 0
}